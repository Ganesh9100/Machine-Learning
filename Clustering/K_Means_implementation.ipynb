{
  "nbformat": 4,
  "nbformat_minor": 0,
  "metadata": {
    "colab": {
      "name": "K_Means_implementation.ipynb",
      "provenance": [],
      "collapsed_sections": [],
      "authorship_tag": "ABX9TyOkB8ww1xYTg4bqQlxej/vn",
      "include_colab_link": true
    },
    "kernelspec": {
      "name": "python3",
      "display_name": "Python 3"
    }
  },
  "cells": [
    {
      "cell_type": "markdown",
      "metadata": {
        "id": "view-in-github",
        "colab_type": "text"
      },
      "source": [
        "<a href=\"https://colab.research.google.com/github/Ganesh9100/100-Days-Of-ML-Code/blob/master/K_Means_implementation.ipynb\" target=\"_parent\"><img src=\"https://colab.research.google.com/assets/colab-badge.svg\" alt=\"Open In Colab\"/></a>"
      ]
    },
    {
      "cell_type": "markdown",
      "metadata": {
        "id": "deHX-YBzqhM2",
        "colab_type": "text"
      },
      "source": [
        "**NEW SIMPLE K MEANS CLUSTER**"
      ]
    },
    {
      "cell_type": "code",
      "metadata": {
        "id": "X6Uly4xfuDPS",
        "colab_type": "code",
        "colab": {}
      },
      "source": [
        "import pandas as pd\n",
        "import matplotlib.pyplot as plt\n"
      ],
      "execution_count": 0,
      "outputs": []
    },
    {
      "cell_type": "code",
      "metadata": {
        "id": "RhniVQQu29vR",
        "colab_type": "code",
        "colab": {
          "base_uri": "https://localhost:8080/",
          "height": 68
        },
        "outputId": "6898a751-b5fd-45cf-85e9-2b6aa3488467"
      },
      "source": [
        "df=pd.DataFrame({\n",
        "    'x': [12,20,28,18,23,26,37,32,36,43,47,53,58,44,60,66,65,72],\n",
        "    'y': [39,34,25,65,44,13,2,7,55,39,76,51,29,46,77,43,49,50]\n",
        "})\n",
        "\n",
        "np.random.seed(200)\n",
        "\n",
        "from sklearn.cluster import KMeans\n",
        "kmeans=KMeans(n_clusters=3)\n",
        "kmeans.fit(df)\n"
      ],
      "execution_count": 70,
      "outputs": [
        {
          "output_type": "execute_result",
          "data": {
            "text/plain": [
              "KMeans(algorithm='auto', copy_x=True, init='k-means++', max_iter=300,\n",
              "       n_clusters=3, n_init=10, n_jobs=None, precompute_distances='auto',\n",
              "       random_state=None, tol=0.0001, verbose=0)"
            ]
          },
          "metadata": {
            "tags": []
          },
          "execution_count": 70
        }
      ]
    },
    {
      "cell_type": "code",
      "metadata": {
        "id": "zn2-9vsR5yQR",
        "colab_type": "code",
        "colab": {}
      },
      "source": [
        ""
      ],
      "execution_count": 0,
      "outputs": []
    },
    {
      "cell_type": "code",
      "metadata": {
        "id": "1ZlLTRTR3oM4",
        "colab_type": "code",
        "colab": {
          "base_uri": "https://localhost:8080/",
          "height": 85
        },
        "outputId": "de93782f-d742-490f-cc4d-65507d13df26"
      },
      "source": [
        "labels=kmeans.predict(df)    # return the assigned centroid for each (x_i,y_i)  eg : (x,y)=(12,39) point is assigned to 2nd centroid , as k started with 0\n",
        "centroids=kmeans.cluster_centers_  # return the centroids position  \n",
        "\n",
        "print(labels)\n",
        "print(centroids)"
      ],
      "execution_count": 71,
      "outputs": [
        {
          "output_type": "stream",
          "text": [
            "[1 1 2 1 1 2 2 2 0 0 0 0 0 0 0 0 0 0]\n",
            "[[54.4  51.5 ]\n",
            " [18.25 45.5 ]\n",
            " [30.75 11.75]]\n"
          ],
          "name": "stdout"
        }
      ]
    },
    {
      "cell_type": "code",
      "metadata": {
        "id": "4NZ6CLZ25Z4t",
        "colab_type": "code",
        "colab": {
          "base_uri": "https://localhost:8080/",
          "height": 324
        },
        "outputId": "c2d8d54b-7193-4249-d2ff-fc0a9a7d4c95"
      },
      "source": [
        "fig=plt.figure(figsize=(5,5))\n",
        "colours=map(lambda x: colmap[x+1],labels)   # map(function,iterable) see it below , here k starts from 0 , so we are adding 1 to it ,and converting it to list below\n",
        "colours1=list(colours)\n",
        "plt.scatter(df['x'],df['y'],color=colours1,alpha=0.2,edgecolor='black')  # edge colour is the datapoint circle outer colour  # aplha is transperancy of datapoints colour from 0 to 1\n",
        "for idx, centroid in enumerate(centroids):\n",
        "  plt.scatter(*centroid,color=colmap[idx+1])\n",
        "\n",
        "plt.xlim(0,80)      # its the limit of x axis and y axis below \n",
        "plt.ylim(0,80)\n",
        "plt.show()\n",
        "\n"
      ],
      "execution_count": 72,
      "outputs": [
        {
          "output_type": "display_data",
          "data": {
            "image/png": "[encoded data removed]",
            "text/plain": [
              "<Figure size 360x360 with 1 Axes>"
            ]
          },
          "metadata": {
            "tags": [],
            "needs_background": "light"
          }
        }
      ]
    },
    {
      "cell_type": "code",
      "metadata": {
        "id": "ZIo5BuNa8KSZ",
        "colab_type": "code",
        "colab": {
          "base_uri": "https://localhost:8080/",
          "height": 34
        },
        "outputId": "8e47e2d4-83e9-4b68-efdd-289941596978"
      },
      "source": [
        "a=[1,2,3,4,5]\n",
        "\n",
        "z=list(map(lambda n:n+2 ,a))\n",
        "print(z)"
      ],
      "execution_count": 55,
      "outputs": [
        {
          "output_type": "stream",
          "text": [
            "[3, 4, 5, 6, 7]\n"
          ],
          "name": "stdout"
        }
      ]
    },
    {
      "cell_type": "code",
      "metadata": {
        "id": "9tTHczCU-tyx",
        "colab_type": "code",
        "colab": {
          "base_uri": "https://localhost:8080/",
          "height": 68
        },
        "outputId": "53f85a30-022a-4cc4-d111-006f6cf18d91"
      },
      "source": [
        "centroid=centroids=kmeans.cluster_centers_\n",
        "print(centroid)"
      ],
      "execution_count": 63,
      "outputs": [
        {
          "output_type": "stream",
          "text": [
            "[[54.4  51.5 ]\n",
            " [18.25 45.5 ]\n",
            " [30.75 11.75]]\n"
          ],
          "name": "stdout"
        }
      ]
    },
    {
      "cell_type": "code",
      "metadata": {
        "id": "hQlzO9agAfmm",
        "colab_type": "code",
        "colab": {
          "base_uri": "https://localhost:8080/",
          "height": 68
        },
        "outputId": "72d9061a-f846-41f9-fa52-b0b838a1e445"
      },
      "source": [
        "z=enumerate(centroid)\n",
        "list(z)"
      ],
      "execution_count": 66,
      "outputs": [
        {
          "output_type": "execute_result",
          "data": {
            "text/plain": [
              "[(0, array([54.4, 51.5])),\n",
              " (1, array([18.25, 45.5 ])),\n",
              " (2, array([30.75, 11.75]))]"
            ]
          },
          "metadata": {
            "tags": []
          },
          "execution_count": 66
        }
      ]
    },
    {
      "cell_type": "code",
      "metadata": {
        "id": "ZE5MID8uAl_v",
        "colab_type": "code",
        "colab": {}
      },
      "source": [
        ""
      ],
      "execution_count": 0,
      "outputs": []
    },
    {
      "cell_type": "code",
      "metadata": {
        "id": "Lf7NPf8hAnbE",
        "colab_type": "code",
        "colab": {}
      },
      "source": [
        ""
      ],
      "execution_count": 0,
      "outputs": []
    }
  ]
}