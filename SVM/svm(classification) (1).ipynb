{
  "nbformat": 4,
  "nbformat_minor": 0,
  "metadata": {
    "colab": {
      "name": "svm(classification).ipynb",
      "provenance": []
    },
    "kernelspec": {
      "name": "python3",
      "display_name": "Python 3"
    },
    "language_info": {
      "name": "python"
    }
  },
  "cells": [
    {
      "cell_type": "code",
      "metadata": {
        "id": "zEP6bIEKGNaW"
      },
      "source": [
        ""
      ],
      "execution_count": null,
      "outputs": []
    },
    {
      "cell_type": "code",
      "metadata": {
        "id": "JKxUzGO0GQOd"
      },
      "source": [
        "#Import scikit-learn dataset library\n",
        "from sklearn import datasets\n",
        "\n",
        "#Load dataset\n",
        "cancer = datasets.load_breast_cancer()"
      ],
      "execution_count": null,
      "outputs": []
    },
    {
      "cell_type": "code",
      "metadata": {
        "colab": {
          "base_uri": "https://localhost:8080/"
        },
        "id": "_MaIu5OLGXzw",
        "outputId": "2187bc98-4ebe-4f51-c3cb-58a88003c1df"
      },
      "source": [
        "\n",
        "#print(\"Features: \", cancer.feature_names)\n",
        "print('Total Features',len(cancer.feature_names))\n",
        "\n",
        "\n",
        "print('No of classes',len(cancer.target_names))\n",
        "#print(\"Labels: \", cancer.target_names)"
      ],
      "execution_count": null,
      "outputs": [
        {
          "output_type": "stream",
          "text": [
            "Total Features 30\n",
            "No of classes 2\n"
          ],
          "name": "stdout"
        }
      ]
    },
    {
      "cell_type": "code",
      "metadata": {
        "colab": {
          "base_uri": "https://localhost:8080/"
        },
        "id": "CBmM9XljGbKo",
        "outputId": "c6777902-ea3f-42c0-a360-2813dd88d023"
      },
      "source": [
        "# shape of the dataset\n",
        "cancer.data.shape"
      ],
      "execution_count": null,
      "outputs": [
        {
          "output_type": "execute_result",
          "data": {
            "text/plain": [
              "(569, 30)"
            ]
          },
          "metadata": {
            "tags": []
          },
          "execution_count": 10
        }
      ]
    },
    {
      "cell_type": "code",
      "metadata": {
        "colab": {
          "base_uri": "https://localhost:8080/"
        },
        "id": "ir5mh3lVG3TG",
        "outputId": "0ac2597c-8be3-4a9c-aefd-7c0b099a7ddf"
      },
      "source": [
        "cancer.feature_names"
      ],
      "execution_count": null,
      "outputs": [
        {
          "output_type": "execute_result",
          "data": {
            "text/plain": [
              "array(['mean radius', 'mean texture', 'mean perimeter', 'mean area',\n",
              "       'mean smoothness', 'mean compactness', 'mean concavity',\n",
              "       'mean concave points', 'mean symmetry', 'mean fractal dimension',\n",
              "       'radius error', 'texture error', 'perimeter error', 'area error',\n",
              "       'smoothness error', 'compactness error', 'concavity error',\n",
              "       'concave points error', 'symmetry error',\n",
              "       'fractal dimension error', 'worst radius', 'worst texture',\n",
              "       'worst perimeter', 'worst area', 'worst smoothness',\n",
              "       'worst compactness', 'worst concavity', 'worst concave points',\n",
              "       'worst symmetry', 'worst fractal dimension'], dtype='<U23')"
            ]
          },
          "metadata": {
            "tags": []
          },
          "execution_count": 13
        }
      ]
    },
    {
      "cell_type": "code",
      "metadata": {
        "colab": {
          "base_uri": "https://localhost:8080/"
        },
        "id": "3XSO5H7uHLPy",
        "outputId": "f7aab49b-28c0-4f99-be37-2f87ec8b2ea0"
      },
      "source": [
        "cancer.target_names"
      ],
      "execution_count": null,
      "outputs": [
        {
          "output_type": "execute_result",
          "data": {
            "text/plain": [
              "array(['malignant', 'benign'], dtype='<U9')"
            ]
          },
          "metadata": {
            "tags": []
          },
          "execution_count": 16
        }
      ]
    },
    {
      "cell_type": "code",
      "metadata": {
        "id": "j9YE_2HWHVBe"
      },
      "source": [
        "# Import train_test_split function\n",
        "from sklearn.model_selection import train_test_split\n",
        "\n",
        "# Split dataset into training set and test set\n",
        "X_train, X_test, y_train, y_test = train_test_split(cancer.data, cancer.target, test_size=0.3,random_state=42) # 70% training and 30% test"
      ],
      "execution_count": null,
      "outputs": []
    },
    {
      "cell_type": "code",
      "metadata": {
        "id": "sLxPORytHfjC"
      },
      "source": [
        "from sklearn import svm\n",
        "from sklearn.decomposition import PCA\n",
        "\n",
        "\"\"\"\n",
        "kernal = precomputed , sigmoid , rbf, linear \n",
        "default is rbf ( non linear will be good )\n",
        "for linear go for linear kernal \n",
        "\n",
        "\n",
        "\n",
        "gamma is 'scale', i.e. gamma = 1 / (n_features * X.var())\n",
        "gama is 'auto' \n",
        "\n",
        "\n",
        "C value if of number \n",
        "large C value  -  REDUCE MIS CLASSIFICATION RATE  ( BUT ALSO MAY OVERFIT THE DATA )\n",
        "Small C value  - DONT CONSIDER THE MISCLASSIFICATION\n",
        "\n",
        "\"\"\"\n",
        "classifier=svm.SVC(kernel='rbf',C=1000,gamma='scale',decision_function_shape='ovo')  \n",
        "pca = PCA(n_components = 2)\n",
        "x_train = pca.fit_transform(X_train)\n",
        "x_test = pca.fit_transform(X_test)\n",
        "training=classifier.fit(x_train,y_train)\n",
        "\n",
        "prediction=classifier.predict(x_test)\n"
      ],
      "execution_count": null,
      "outputs": []
    },
    {
      "cell_type": "code",
      "metadata": {
        "colab": {
          "base_uri": "https://localhost:8080/"
        },
        "id": "xw3E6W6XH5Ye",
        "outputId": "d08a0101-0a61-47f0-b4c2-1dbe10606975"
      },
      "source": [
        "#Import scikit-learn metrics module for accuracy calculation\n",
        "from sklearn import metrics\n",
        "\n",
        "# Model Accuracy: how often is the classifier correct?\n",
        "print(\"Accuracy:\",metrics.accuracy_score(y_test, prediction))"
      ],
      "execution_count": null,
      "outputs": [
        {
          "output_type": "stream",
          "text": [
            "Accuracy: 0.8421052631578947\n"
          ],
          "name": "stdout"
        }
      ]
    },
    {
      "cell_type": "code",
      "metadata": {
        "colab": {
          "base_uri": "https://localhost:8080/"
        },
        "id": "8bVQiDALIK-w",
        "outputId": "e24678e6-b7a2-4c57-ea95-518416edb943"
      },
      "source": [
        "from sklearn.metrics import classification_report\n",
        "print(classification_report(y_test,prediction,target_names=cancer.target_names))"
      ],
      "execution_count": null,
      "outputs": [
        {
          "output_type": "stream",
          "text": [
            "              precision    recall  f1-score   support\n",
            "\n",
            "   malignant       0.74      0.87      0.80        63\n",
            "      benign       0.92      0.82      0.87       108\n",
            "\n",
            "    accuracy                           0.84       171\n",
            "   macro avg       0.83      0.85      0.84       171\n",
            "weighted avg       0.85      0.84      0.84       171\n",
            "\n"
          ],
          "name": "stdout"
        }
      ]
    },
    {
      "cell_type": "code",
      "metadata": {
        "id": "xJfp7KmINjAG"
      },
      "source": [
        "from mlxtend.plotting import plot_decision_regions\n",
        "import matplotlib.pyplot as plt"
      ],
      "execution_count": null,
      "outputs": []
    },
    {
      "cell_type": "code",
      "metadata": {
        "colab": {
          "base_uri": "https://localhost:8080/",
          "height": 374
        },
        "id": "z8deKvdPMWbL",
        "outputId": "a1df808d-599a-4ebd-ba46-b427a0b865fd"
      },
      "source": [
        "from mlxtend.plotting import plot_decision_regions\n",
        "import matplotlib.pyplot as plt\n",
        "plot_decision_regions(X=x_train, \n",
        "                      y=y_train,\n",
        "                      clf=classifier,\n",
        "                      legend=2)\n",
        "plt.xlabel('malignant', size=14)\n",
        "\n",
        "plt.ylabel('benign', size=14)\n",
        "plt.title('SVM Decision Region Boundary', size=16)\n"
      ],
      "execution_count": null,
      "outputs": [
        {
          "output_type": "stream",
          "text": [
            "/usr/local/lib/python3.7/dist-packages/mlxtend/plotting/decision_regions.py:244: MatplotlibDeprecationWarning: Passing unsupported keyword arguments to axis() will raise a TypeError in 3.3.\n",
            "  ax.axis(xmin=xx.min(), xmax=xx.max(), y_min=yy.min(), y_max=yy.max())\n"
          ],
          "name": "stderr"
        },
        {
          "output_type": "execute_result",
          "data": {
            "text/plain": [
              "Text(0.5, 1.0, 'SVM Decision Region Boundary')"
            ]
          },
          "metadata": {
            "tags": []
          },
          "execution_count": 76
        },
        {
          "output_type": "display_data",
          "data": {
            "image/png": "[encoded data removed]",
            "text/plain": [
              "<Figure size 432x288 with 1 Axes>"
            ]
          },
          "metadata": {
            "tags": [],
            "needs_background": "light"
          }
        }
      ]
    },
    {
      "cell_type": "code",
      "metadata": {
        "id": "hryDiRUYgAWo"
      },
      "source": [
        ""
      ],
      "execution_count": null,
      "outputs": []
    }
  ]
}