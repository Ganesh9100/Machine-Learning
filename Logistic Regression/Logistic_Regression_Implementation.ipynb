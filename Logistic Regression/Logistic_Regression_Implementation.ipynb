{
  "nbformat": 4,
  "nbformat_minor": 0,
  "metadata": {
    "colab": {
      "name": "Logistic_Regression_Implementation.ipynb",
      "provenance": [],
      "authorship_tag": "ABX9TyOdgazf1G5mdwWAs27S4SeN",
      "include_colab_link": true
    },
    "kernelspec": {
      "name": "python3",
      "display_name": "Python 3"
    }
  },
  "cells": [
    {
      "cell_type": "markdown",
      "metadata": {
        "id": "view-in-github",
        "colab_type": "text"
      },
      "source": [
        "<a href=\"https://colab.research.google.com/github/Ganesh9100/100-Days-Of-ML-Code/blob/master/Logistic_Regression_Implementation.ipynb\" target=\"_parent\"><img src=\"https://colab.research.google.com/assets/colab-badge.svg\" alt=\"Open In Colab\"/></a>"
      ]
    },
    {
      "cell_type": "code",
      "metadata": {
        "id": "4uyfLhspL0KI",
        "colab_type": "code",
        "colab": {}
      },
      "source": [
        "from sklearn.datasets import load_digits\n",
        "from sklearn.model_selection import train_test_split\n",
        "import numpy as np \n",
        "import matplotlib.pyplot as plt\n",
        "import seaborn as sns\n",
        "from sklearn import metrics\n"
      ],
      "execution_count": 0,
      "outputs": []
    },
    {
      "cell_type": "code",
      "metadata": {
        "id": "5RbFTOfBMb05",
        "colab_type": "code",
        "colab": {}
      },
      "source": [
        "digits=load_digits()\n"
      ],
      "execution_count": 0,
      "outputs": []
    },
    {
      "cell_type": "code",
      "metadata": {
        "id": "-QXf-PrKMnCu",
        "colab_type": "code",
        "colab": {
          "base_uri": "https://localhost:8080/",
          "height": 51
        },
        "outputId": "6ae278ea-d814-4c16-b038-c3efe2be09c2"
      },
      "source": [
        "print(\"image data shape \", digits.data.shape)    # there are 1797 images with different digits and each image has 64 pixel values 8 x 8 matrix \n",
        "print(\"label data shape \", digits.target.shape)   # there are 1797 images in vector as labels not as images of matrix "
      ],
      "execution_count": 38,
      "outputs": [
        {
          "output_type": "stream",
          "text": [
            "image data shape  (1797, 64)\n",
            "label data shape  (1797,)\n"
          ],
          "name": "stdout"
        }
      ]
    },
    {
      "cell_type": "code",
      "metadata": {
        "id": "6ClIWEDBMo5P",
        "colab_type": "code",
        "colab": {
          "base_uri": "https://localhost:8080/",
          "height": 85
        },
        "outputId": "80da298f-09ed-4378-c9ea-8b613ef8c1d3"
      },
      "source": [
        "print(digits.data[0:1])"
      ],
      "execution_count": 39,
      "outputs": [
        {
          "output_type": "stream",
          "text": [
            "[[ 0.  0.  5. 13.  9.  1.  0.  0.  0.  0. 13. 15. 10. 15.  5.  0.  0.  3.\n",
            "  15.  2.  0. 11.  8.  0.  0.  4. 12.  0.  0.  8.  8.  0.  0.  5.  8.  0.\n",
            "   0.  9.  8.  0.  0.  4. 11.  0.  1. 12.  7.  0.  0.  2. 14.  5. 10. 12.\n",
            "   0.  0.  0.  0.  6. 13. 10.  0.  0.  0.]]\n"
          ],
          "name": "stdout"
        }
      ]
    },
    {
      "cell_type": "code",
      "metadata": {
        "id": "dG_VmBH2cuh1",
        "colab_type": "code",
        "colab": {
          "base_uri": "https://localhost:8080/",
          "height": 231
        },
        "outputId": "29d81b23-688d-40a6-91c0-3ee8cf516f1c"
      },
      "source": [
        "import matplotlib.pyplot as plt\n",
        "\n",
        "plt.figure(figsize=(20,4))\n",
        "\n",
        "\n",
        "x=zip(digits.data[0:5],digits.target[0:5])\n",
        "x=set(x)\n",
        "print(x)\n"
      ],
      "execution_count": 49,
      "outputs": [
        {
          "output_type": "error",
          "ename": "TypeError",
          "evalue": "ignored",
          "traceback": [
            "\u001b[0;31m---------------------------------------------------------------------------\u001b[0m",
            "\u001b[0;31mTypeError\u001b[0m                                 Traceback (most recent call last)",
            "\u001b[0;32m<ipython-input-49-ff863cfd92c3>\u001b[0m in \u001b[0;36m<module>\u001b[0;34m()\u001b[0m\n\u001b[1;32m      5\u001b[0m \u001b[0;34m\u001b[0m\u001b[0m\n\u001b[1;32m      6\u001b[0m \u001b[0mx\u001b[0m\u001b[0;34m=\u001b[0m\u001b[0mzip\u001b[0m\u001b[0;34m(\u001b[0m\u001b[0mdigits\u001b[0m\u001b[0;34m.\u001b[0m\u001b[0mdata\u001b[0m\u001b[0;34m[\u001b[0m\u001b[0;36m0\u001b[0m\u001b[0;34m:\u001b[0m\u001b[0;36m5\u001b[0m\u001b[0;34m]\u001b[0m\u001b[0;34m,\u001b[0m\u001b[0mdigits\u001b[0m\u001b[0;34m.\u001b[0m\u001b[0mtarget\u001b[0m\u001b[0;34m[\u001b[0m\u001b[0;36m0\u001b[0m\u001b[0;34m:\u001b[0m\u001b[0;36m5\u001b[0m\u001b[0;34m]\u001b[0m\u001b[0;34m)\u001b[0m\u001b[0;34m\u001b[0m\u001b[0;34m\u001b[0m\u001b[0m\n\u001b[0;32m----> 7\u001b[0;31m \u001b[0mx\u001b[0m\u001b[0;34m=\u001b[0m\u001b[0mset\u001b[0m\u001b[0;34m(\u001b[0m\u001b[0mx\u001b[0m\u001b[0;34m)\u001b[0m\u001b[0;34m\u001b[0m\u001b[0;34m\u001b[0m\u001b[0m\n\u001b[0m\u001b[1;32m      8\u001b[0m \u001b[0mprint\u001b[0m\u001b[0;34m(\u001b[0m\u001b[0mx\u001b[0m\u001b[0;34m)\u001b[0m\u001b[0;34m\u001b[0m\u001b[0;34m\u001b[0m\u001b[0m\n",
            "\u001b[0;31mTypeError\u001b[0m: unhashable type: 'numpy.ndarray'"
          ]
        },
        {
          "output_type": "display_data",
          "data": {
            "text/plain": [
              "<Figure size 1440x288 with 0 Axes>"
            ]
          },
          "metadata": {
            "tags": []
          }
        }
      ]
    },
    {
      "cell_type": "code",
      "metadata": {
        "id": "_9JqdOxFOylo",
        "colab_type": "code",
        "colab": {
          "base_uri": "https://localhost:8080/",
          "height": 283
        },
        "outputId": "cfb18a8e-4e55-40a9-cbe6-f40d7b8b3b65"
      },
      "source": [
        "import matplotlib.pyplot as plt\n",
        "\n",
        "plt.figure(figsize=(20,4)) # width , height \n",
        "for index,(image,label) in enumerate(zip(digits.data[0:5],digits.target[0:5])): # zip map the index of similar container and  enumerate count the iteration \n",
        "  plt.subplot(1,5,index+1) # 1 row 5 column as representated and  index + 1 is the axis as on number line in right x axis \n",
        "  plt.imshow(np.reshape(image,(8,8)),cmap=plt.cm.gray)\n",
        "  plt.title('training : %i\\n' %label,fontsize=20)"
      ],
      "execution_count": 46,
      "outputs": [
        {
          "output_type": "display_data",
          "data": {
            "image/png": "[encoded data removed]",
            "text/plain": [
              "<Figure size 1440x288 with 5 Axes>"
            ]
          },
          "metadata": {
            "tags": [],
            "needs_background": "light"
          }
        }
      ]
    },
    {
      "cell_type": "code",
      "metadata": {
        "id": "TSfqk_fqPJ-8",
        "colab_type": "code",
        "colab": {}
      },
      "source": [
        "from sklearn.model_selection import train_test_split\n",
        "x_train,x_test,y_train,y_test=train_test_split(digits.data,digits.target,test_size=0.23,random_state=2)"
      ],
      "execution_count": 0,
      "outputs": []
    },
    {
      "cell_type": "code",
      "metadata": {
        "id": "12d7UDBCPLPo",
        "colab_type": "code",
        "colab": {
          "base_uri": "https://localhost:8080/",
          "height": 85
        },
        "outputId": "44b1c50e-e520-4749-8882-5e2fdb7686ad"
      },
      "source": [
        "print(x_train.shape)\n",
        "print(y_train.shape)\n",
        "print(x_test.shape)\n",
        "print(y_test.shape)\n"
      ],
      "execution_count": 53,
      "outputs": [
        {
          "output_type": "stream",
          "text": [
            "(1383, 64)\n",
            "(1383,)\n",
            "(414, 64)\n",
            "(414,)\n"
          ],
          "name": "stdout"
        }
      ]
    },
    {
      "cell_type": "code",
      "metadata": {
        "id": "kL4CpkAlhYLR",
        "colab_type": "code",
        "colab": {
          "base_uri": "https://localhost:8080/",
          "height": 238
        },
        "outputId": "963b249d-c8cf-4e35-c704-5a75d1a6d0ca"
      },
      "source": [
        "from sklearn.linear_model import LogisticRegression\n",
        "lrg=LogisticRegression()\n",
        "lrg.fit(x_train,y_train)"
      ],
      "execution_count": 55,
      "outputs": [
        {
          "output_type": "stream",
          "text": [
            "/usr/local/lib/python3.6/dist-packages/sklearn/linear_model/_logistic.py:940: ConvergenceWarning: lbfgs failed to converge (status=1):\n",
            "STOP: TOTAL NO. of ITERATIONS REACHED LIMIT.\n",
            "\n",
            "Increase the number of iterations (max_iter) or scale the data as shown in:\n",
            "    https://scikit-learn.org/stable/modules/preprocessing.html\n",
            "Please also refer to the documentation for alternative solver options:\n",
            "    https://scikit-learn.org/stable/modules/linear_model.html#logistic-regression\n",
            "  extra_warning_msg=_LOGISTIC_SOLVER_CONVERGENCE_MSG)\n"
          ],
          "name": "stderr"
        },
        {
          "output_type": "execute_result",
          "data": {
            "text/plain": [
              "LogisticRegression(C=1.0, class_weight=None, dual=False, fit_intercept=True,\n",
              "                   intercept_scaling=1, l1_ratio=None, max_iter=100,\n",
              "                   multi_class='auto', n_jobs=None, penalty='l2',\n",
              "                   random_state=None, solver='lbfgs', tol=0.0001, verbose=0,\n",
              "                   warm_start=False)"
            ]
          },
          "metadata": {
            "tags": []
          },
          "execution_count": 55
        }
      ]
    },
    {
      "cell_type": "code",
      "metadata": {
        "id": "wXsVoW8ZiDML",
        "colab_type": "code",
        "colab": {
          "base_uri": "https://localhost:8080/",
          "height": 34
        },
        "outputId": "83fb54dc-eac2-43c7-aaa5-4204408015a4"
      },
      "source": [
        "print(lrg.predict(x_test[0].reshape(1,-1)))"
      ],
      "execution_count": 65,
      "outputs": [
        {
          "output_type": "stream",
          "text": [
            "[4]\n"
          ],
          "name": "stdout"
        }
      ]
    },
    {
      "cell_type": "code",
      "metadata": {
        "id": "QWhwucUrimXm",
        "colab_type": "code",
        "colab": {
          "base_uri": "https://localhost:8080/",
          "height": 34
        },
        "outputId": "092e3686-26a2-465f-97cc-e11b86d4af41"
      },
      "source": [
        "lrg.predict(x_test[0:10])"
      ],
      "execution_count": 66,
      "outputs": [
        {
          "output_type": "execute_result",
          "data": {
            "text/plain": [
              "array([4, 0, 9, 1, 8, 7, 1, 5, 1, 6])"
            ]
          },
          "metadata": {
            "tags": []
          },
          "execution_count": 66
        }
      ]
    },
    {
      "cell_type": "code",
      "metadata": {
        "id": "y2nogNlmjVm1",
        "colab_type": "code",
        "colab": {}
      },
      "source": [
        "predictions=lrg.predict(x_test)"
      ],
      "execution_count": 0,
      "outputs": []
    },
    {
      "cell_type": "code",
      "metadata": {
        "id": "0cVoaXt7jjnF",
        "colab_type": "code",
        "colab": {}
      },
      "source": [
        "scores=lrg.score(x_test,y_test) #Y_test is the actual output and predictions is the predicted output of x_test "
      ],
      "execution_count": 0,
      "outputs": []
    },
    {
      "cell_type": "code",
      "metadata": {
        "id": "hoMp0Jl3jtQd",
        "colab_type": "code",
        "colab": {
          "base_uri": "https://localhost:8080/",
          "height": 34
        },
        "outputId": "88ea00c4-3dfa-447b-ed7b-3d7c1a254004"
      },
      "source": [
        "print(scores)"
      ],
      "execution_count": 69,
      "outputs": [
        {
          "output_type": "stream",
          "text": [
            "0.9516908212560387\n"
          ],
          "name": "stdout"
        }
      ]
    },
    {
      "cell_type": "code",
      "metadata": {
        "id": "MhvN0u9Rjunt",
        "colab_type": "code",
        "colab": {}
      },
      "source": [
        ""
      ],
      "execution_count": 0,
      "outputs": []
    },
    {
      "cell_type": "markdown",
      "metadata": {
        "id": "aFxhIcDcj4_J",
        "colab_type": "text"
      },
      "source": [
        "**NOW USING CONFUSION MATRIX WE WILL FIND TO REPRESENT THE ACCURACY**"
      ]
    },
    {
      "cell_type": "code",
      "metadata": {
        "id": "qMxqHVsXkAj2",
        "colab_type": "code",
        "colab": {}
      },
      "source": [
        "from sklearn import metrics"
      ],
      "execution_count": 0,
      "outputs": []
    },
    {
      "cell_type": "code",
      "metadata": {
        "id": "UD_LAEQWkJDc",
        "colab_type": "code",
        "colab": {}
      },
      "source": [
        "cm=metrics.confusion_matrix(y_test,predictions) # ytest and the out predicted values for ytest"
      ],
      "execution_count": 0,
      "outputs": []
    },
    {
      "cell_type": "code",
      "metadata": {
        "id": "ywY1wNIykgiY",
        "colab_type": "code",
        "colab": {
          "base_uri": "https://localhost:8080/",
          "height": 187
        },
        "outputId": "ae3db57a-bc64-48a5-93b2-9deaaa5cb3d3"
      },
      "source": [
        "print(cm) # IF U ADD UP ALL THE NUMBERS IN THE BELOW MATRIX IT WILL BE HTE SAMME AS NO OF TEST DATA "
      ],
      "execution_count": 72,
      "outputs": [
        {
          "output_type": "stream",
          "text": [
            "[[37  0  0  0  1  0  0  0  0  0]\n",
            " [ 0 45  0  1  0  0  0  0  1  1]\n",
            " [ 0  0 43  0  0  0  0  0  0  0]\n",
            " [ 0  0  0 40  0  0  0  1  1  0]\n",
            " [ 0  0  0  0 34  0  0  0  3  1]\n",
            " [ 0  1  0  0  1 44  0  0  0  0]\n",
            " [ 0  1  0  0  0  0 39  0  1  0]\n",
            " [ 0  0  0  0  0  0  0 45  1  0]\n",
            " [ 0  0  0  0  0  0  0  0 37  1]\n",
            " [ 0  0  0  2  0  1  0  0  1 30]]\n"
          ],
          "name": "stdout"
        }
      ]
    },
    {
      "cell_type": "markdown",
      "metadata": {
        "id": "fRmir27oklQW",
        "colab_type": "text"
      },
      "source": [
        "**HERE THE DIAGONAL VALUE SHOULD BE VERY HIGH , IT REPRESENT THE ACTUAL VALUE IS EQUAL TO PREDICTED VALUE**\n",
        "\n",
        "**FROM INDEX 0 TO 9 BOTH THE AXIS , LABEL 0,0 IS 37 , THIS MEANS Y AXIS IS ACTUAL VALUE , X- AXIS IS PREDICTED ONE . SO THE ACTUAL VALUE OF 0 IS PREDICTED SAME AS ACTUAL VALUE FOR 37 TIMES AND 1 IMAGE IS MIS PREDICTED AS 4 RATHER TO PREDICT 0**"
      ]
    },
    {
      "cell_type": "code",
      "metadata": {
        "id": "_2BlHU9Eki1e",
        "colab_type": "code",
        "colab": {
          "base_uri": "https://localhost:8080/",
          "height": 547
        },
        "outputId": "ceeda5be-fadd-4b2d-c33f-4ccfc1b64762"
      },
      "source": [
        "plt.figure(figsize=(9,9))\n",
        "sns.heatmap(cm,annot=True,fmt=\".3f\",linewidths=.5,square=True,cmap='Blues_r')\n",
        "plt.ylabel(\"ACTUAL VALUE OR LABEL\")\n",
        "plt.xlabel(\" PREDICTED VALUE OR LABEL\")\n",
        "all_sample_title=\"ACCURACY SCORE {0}\".format(scores)\n",
        "plt.title(all_sample_title,size=15)"
      ],
      "execution_count": 75,
      "outputs": [
        {
          "output_type": "execute_result",
          "data": {
            "text/plain": [
              "Text(0.5, 1.0, 'ACCURACY SCORE 0.9516908212560387')"
            ]
          },
          "metadata": {
            "tags": []
          },
          "execution_count": 75
        },
        {
          "output_type": "display_data",
          "data": {
            "image/png": "[encoded data removed]",
            "text/plain": [
              "<Figure size 648x648 with 2 Axes>"
            ]
          },
          "metadata": {
            "tags": [],
            "needs_background": "light"
          }
        }
      ]
    },
    {
      "cell_type": "code",
      "metadata": {
        "id": "3PfS-AAHnbKc",
        "colab_type": "code",
        "colab": {
          "base_uri": "https://localhost:8080/",
          "height": 232
        },
        "outputId": "576adb01-5a44-45ce-c4cc-90448bb5a32a"
      },
      "source": [
        "index=0\n",
        "classifiedindex=[]\n",
        "for predict,actual in zip(predictions,y_test):\n",
        "  if predict == actual:\n",
        "    classifiedindex.append(index)\n",
        "  index=index+1\n",
        "\n",
        "plt.figure(figsize=(20,3))\n",
        "\n",
        "for plotindex,wrong in enumerate(classifiedindex[0:4]):\n",
        "  plt.subplot(1,4,plotindex+1)\n",
        "  plt.imshow(np.reshape(x_test[wrong],(8,8)),cmap=plt.cm.gray)\n",
        "  plt.title(\"Predicted : {}, Actual : {}\".format(predictions[wrong],y_test[wrong]),fontsize=20)"
      ],
      "execution_count": 77,
      "outputs": [
        {
          "output_type": "display_data",
          "data": {
            "image/png": "[encoded data removed]",
            "text/plain": [
              "<Figure size 1440x216 with 4 Axes>"
            ]
          },
          "metadata": {
            "tags": [],
            "needs_background": "light"
          }
        }
      ]
    },
    {
      "cell_type": "code",
      "metadata": {
        "id": "dk95mtpBrkNF",
        "colab_type": "code",
        "colab": {}
      },
      "source": [
        ""
      ],
      "execution_count": 0,
      "outputs": []
    }
  ]
}