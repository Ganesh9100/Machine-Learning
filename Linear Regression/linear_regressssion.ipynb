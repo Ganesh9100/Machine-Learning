{
  "nbformat": 4,
  "nbformat_minor": 0,
  "metadata": {
    "colab": {
      "name": "Untitled18.ipynb",
      "provenance": [],
      "authorship_tag": "ABX9TyNObMn6EqksDYCHZ+ebUh8B",
      "include_colab_link": true
    },
    "kernelspec": {
      "name": "python3",
      "display_name": "Python 3"
    }
  },
  "cells": [
    {
      "cell_type": "markdown",
      "metadata": {
        "id": "view-in-github",
        "colab_type": "text"
      },
      "source": [
        "<a href=\"https://colab.research.google.com/github/Ganesh9100/100-Days-Of-ML-Code/blob/master/linear_regressssion.ipynb\" target=\"_parent\"><img src=\"https://colab.research.google.com/assets/colab-badge.svg\" alt=\"Open In Colab\"/></a>"
      ]
    },
    {
      "cell_type": "code",
      "metadata": {
        "id": "4kGP2xcWpM24",
        "colab_type": "code",
        "colab": {}
      },
      "source": [
        "import numpy as np \n",
        "import matplotlib.pyplot as plt\n",
        "import seaborn as sns\n",
        "import pandas as pd \n",
        "\n"
      ],
      "execution_count": 0,
      "outputs": []
    },
    {
      "cell_type": "code",
      "metadata": {
        "id": "M1JY4whHp7OV",
        "colab_type": "code",
        "colab": {
          "base_uri": "https://localhost:8080/",
          "height": 204
        },
        "outputId": "9e22ede7-1a41-4f48-c98d-8f0f8a1f213e"
      },
      "source": [
        "companies=pd.read_csv('/content/1000_Companies.csv')\n",
        "x=companies.iloc[:,:-1].values\n",
        "y=companies.iloc[:,4].values\n",
        "\n",
        "companies.head()"
      ],
      "execution_count": 42,
      "outputs": [
        {
          "output_type": "execute_result",
          "data": {
            "text/html": [
              "<div>\n",
              "<style scoped>\n",
              "    .dataframe tbody tr th:only-of-type {\n",
              "        vertical-align: middle;\n",
              "    }\n",
              "\n",
              "    .dataframe tbody tr th {\n",
              "        vertical-align: top;\n",
              "    }\n",
              "\n",
              "    .dataframe thead th {\n",
              "        text-align: right;\n",
              "    }\n",
              "</style>\n",
              "<table border=\"1\" class=\"dataframe\">\n",
              "  <thead>\n",
              "    <tr style=\"text-align: right;\">\n",
              "      <th></th>\n",
              "      <th>R&amp;D Spend</th>\n",
              "      <th>Administration</th>\n",
              "      <th>Marketing Spend</th>\n",
              "      <th>State</th>\n",
              "      <th>Profit</th>\n",
              "    </tr>\n",
              "  </thead>\n",
              "  <tbody>\n",
              "    <tr>\n",
              "      <th>0</th>\n",
              "      <td>165349.20</td>\n",
              "      <td>136897.80</td>\n",
              "      <td>471784.10</td>\n",
              "      <td>New York</td>\n",
              "      <td>192261.83</td>\n",
              "    </tr>\n",
              "    <tr>\n",
              "      <th>1</th>\n",
              "      <td>162597.70</td>\n",
              "      <td>151377.59</td>\n",
              "      <td>443898.53</td>\n",
              "      <td>California</td>\n",
              "      <td>191792.06</td>\n",
              "    </tr>\n",
              "    <tr>\n",
              "      <th>2</th>\n",
              "      <td>153441.51</td>\n",
              "      <td>101145.55</td>\n",
              "      <td>407934.54</td>\n",
              "      <td>Florida</td>\n",
              "      <td>191050.39</td>\n",
              "    </tr>\n",
              "    <tr>\n",
              "      <th>3</th>\n",
              "      <td>144372.41</td>\n",
              "      <td>118671.85</td>\n",
              "      <td>383199.62</td>\n",
              "      <td>New York</td>\n",
              "      <td>182901.99</td>\n",
              "    </tr>\n",
              "    <tr>\n",
              "      <th>4</th>\n",
              "      <td>142107.34</td>\n",
              "      <td>91391.77</td>\n",
              "      <td>366168.42</td>\n",
              "      <td>Florida</td>\n",
              "      <td>166187.94</td>\n",
              "    </tr>\n",
              "  </tbody>\n",
              "</table>\n",
              "</div>"
            ],
            "text/plain": [
              "   R&D Spend  Administration  Marketing Spend       State     Profit\n",
              "0  165349.20       136897.80        471784.10    New York  192261.83\n",
              "1  162597.70       151377.59        443898.53  California  191792.06\n",
              "2  153441.51       101145.55        407934.54     Florida  191050.39\n",
              "3  144372.41       118671.85        383199.62    New York  182901.99\n",
              "4  142107.34        91391.77        366168.42     Florida  166187.94"
            ]
          },
          "metadata": {
            "tags": []
          },
          "execution_count": 42
        }
      ]
    },
    {
      "cell_type": "code",
      "metadata": {
        "id": "DCN387F90fBn",
        "colab_type": "code",
        "colab": {
          "base_uri": "https://localhost:8080/",
          "height": 85
        },
        "outputId": "311a6554-fe64-46ae-bd1d-be3fe947b5e9"
      },
      "source": [
        "print(x[1:20,3])\n"
      ],
      "execution_count": 43,
      "outputs": [
        {
          "output_type": "stream",
          "text": [
            "['California' 'Florida' 'New York' 'Florida' 'New York' 'California'\n",
            " 'Florida' 'New York' 'California' 'Florida' 'California' 'Florida'\n",
            " 'California' 'Florida' 'New York' 'California' 'New York' 'Florida'\n",
            " 'New York']\n"
          ],
          "name": "stdout"
        }
      ]
    },
    {
      "cell_type": "code",
      "metadata": {
        "id": "fCnGaV1uqZsM",
        "colab_type": "code",
        "colab": {}
      },
      "source": [
        "from sklearn.preprocessing import LabelEncoder , OneHotEncoder\n",
        "labelencoder=LabelEncoder()\n",
        "x[:,3]=labelencoder.fit_transform(x[:,3])\n",
        "\n",
        "\n"
      ],
      "execution_count": 0,
      "outputs": []
    },
    {
      "cell_type": "code",
      "metadata": {
        "id": "SfNDeFxXzipT",
        "colab_type": "code",
        "colab": {}
      },
      "source": [
        "from sklearn.compose import ColumnTransformer"
      ],
      "execution_count": 0,
      "outputs": []
    },
    {
      "cell_type": "code",
      "metadata": {
        "id": "7JVRxs_qM5BB",
        "colab_type": "code",
        "colab": {}
      },
      "source": [
        "transformer = ColumnTransformer(\n",
        "    transformers=[\n",
        "        (\"OneHot\",        # Just a name\n",
        "         OneHotEncoder(), # The transformer class\n",
        "         [3]              # The column(s) to be applied on.\n",
        "         )\n",
        "    ],\n",
        "    remainder='passthrough' # donot apply anything to the remaining columns\n",
        ")"
      ],
      "execution_count": 0,
      "outputs": []
    },
    {
      "cell_type": "code",
      "metadata": {
        "id": "GSKYddu6yB2A",
        "colab_type": "code",
        "colab": {}
      },
      "source": [
        "x = x.astype('float64')"
      ],
      "execution_count": 0,
      "outputs": []
    },
    {
      "cell_type": "code",
      "metadata": {
        "id": "YnyBWo4C1QlT",
        "colab_type": "code",
        "colab": {}
      },
      "source": [
        "from sklearn.model_selection import train_test_split\n",
        "x_train,x_test,y_train,y_test=train_test_split(x,y,test_size=0.2,random_state=0)\n"
      ],
      "execution_count": 0,
      "outputs": []
    },
    {
      "cell_type": "code",
      "metadata": {
        "id": "YNFgy3teIfie",
        "colab_type": "code",
        "colab": {
          "base_uri": "https://localhost:8080/",
          "height": 34
        },
        "outputId": "3f524a92-d952-45ca-824f-2064840f0f65"
      },
      "source": [
        "from sklearn.linear_model import LinearRegression\n",
        "regressor=LinearRegression()\n",
        "regressor.fit(x_train,y_train)"
      ],
      "execution_count": 54,
      "outputs": [
        {
          "output_type": "execute_result",
          "data": {
            "text/plain": [
              "LinearRegression(copy_X=True, fit_intercept=True, n_jobs=None, normalize=False)"
            ]
          },
          "metadata": {
            "tags": []
          },
          "execution_count": 54
        }
      ]
    },
    {
      "cell_type": "code",
      "metadata": {
        "id": "XhyH2pTgJFsX",
        "colab_type": "code",
        "colab": {
          "base_uri": "https://localhost:8080/",
          "height": 867
        },
        "outputId": "5f88bf3b-cc86-4a05-a7b5-9dd5da8b5bed"
      },
      "source": [
        "y_predict=regressor.predict(x_test)\n",
        "print(y_predict)"
      ],
      "execution_count": 55,
      "outputs": [
        {
          "output_type": "stream",
          "text": [
            "[ 89624.88499983  88261.44060358  94728.57723845 176034.49990954\n",
            "  83234.84214495 110393.04058199 131831.18880607  91307.52461765\n",
            " 164414.26754671  53585.35570743  66786.11950078 150921.89704628\n",
            " 126746.78121459  59174.341725   177341.80724482  75139.98127599\n",
            " 118605.9491146  164403.24374731 171336.34862472 181885.06087421\n",
            " 118762.26624783  85504.5201526  181345.84072646  83979.76201107\n",
            " 104839.00200137 101067.00608604  53722.31401539  56706.45386115\n",
            "  68732.18107141 209811.34272095 121136.34391499 111557.54775873\n",
            " 101309.70393418 138315.39958078  63806.10546728 108690.79660343\n",
            " 185830.38310114 171796.58186122 174997.97325294 118029.33822338\n",
            "  96553.52264734 165281.03076793 107557.31012676  50557.29080259\n",
            " 116871.82636073  58469.02312669 158771.35516035  78902.17488961\n",
            " 160082.45834529 131494.74562654 185233.67354483 174962.79318566\n",
            "  93579.64586335  78164.61392891 180561.94494338  84821.87449117\n",
            " 143256.92009399 170435.21728058  84188.13777206 105128.89266269\n",
            " 142016.17711741  52352.69882961 141673.45079288 138995.34025103\n",
            "  98128.17857189 113945.01159246 126574.18191679 151953.63890674\n",
            "  58689.41162929 174639.30763053 124455.78288593 168894.28704729\n",
            "  91639.09627154 155988.19861521  84141.93382092  77701.26598966\n",
            " 120771.67191431  93202.83024556 138851.31833079 143435.03120172\n",
            " 171502.27009022 139913.58651319 106191.16076064 155470.92422805\n",
            " 139849.10179055 109994.04650482  69508.71795972  87971.28828425\n",
            " 139964.21158468 148297.48006333 157734.33411496  58369.48912141\n",
            "  93529.74798521 113004.58676514  56381.2521726  107236.26789414\n",
            " 147708.49291934 151962.21946809 167625.09747992 118582.41810675\n",
            " 121120.89899524 139386.24824009 157345.63664385 122319.5973879\n",
            "  86914.16840487 105151.69639275  95157.47229309 178205.73461428\n",
            " 181770.2127381  109652.54183621 165082.82081555 167634.66689263\n",
            " 157820.13925373 174599.34276711 170025.19931955  52139.17476133\n",
            " 176766.05450263 104585.0186007   82545.09933122 138709.60895693\n",
            " 144630.66101185 162033.66822962 170016.12436942 120808.56812142\n",
            " 159235.56115351 110046.51849225 169491.36019494  60596.99166217\n",
            " 158866.23532304 157998.74491915 174328.19840197 156112.61616403\n",
            " 103547.63396397  85458.91251291 141434.05433182 165734.80936825\n",
            " 121539.62832572 170562.43564135 100864.86949721  82457.94166529\n",
            " 178471.00347238 101623.88174527  70331.4587885   90072.65723255\n",
            "  61072.22154665  68736.34043862  73136.92467492 176742.02902153\n",
            "  90064.57113377 128998.71699737  93032.57243205  88583.13235127\n",
            " 172664.56674901  60729.9896911  169370.01131309 166278.94500381\n",
            " 165779.92245025 102529.4900122  181410.55817988  74063.62063787\n",
            "  91101.59217916 135622.46937921  64747.25748795  71599.65942006\n",
            "  60428.68269046 184641.61773385 176640.28450044 158725.38392932\n",
            " 141178.22408898 154429.11848164  58374.50655107  90978.39637071\n",
            " 152703.57620466 168752.21397631  72309.26825255 116422.20721207\n",
            "  80448.38430783 149647.19558454 116627.64518798 130022.82306379\n",
            " 174888.14264374 293492.48984534 146100.99822157 150464.91899219\n",
            "  86467.61783875  70328.52100342  70458.08685528  68869.46933558\n",
            " 120487.1622868   89500.33665356 167178.54698757 125346.44063256\n",
            "  67033.96565195 140708.04064616 118376.48566826 165726.35967814\n",
            " 169009.62956152 146839.78084885 141215.12028542 108907.75284131]\n"
          ],
          "name": "stdout"
        }
      ]
    },
    {
      "cell_type": "code",
      "metadata": {
        "id": "Ol_vnZUGJngq",
        "colab_type": "code",
        "colab": {
          "base_uri": "https://localhost:8080/",
          "height": 34
        },
        "outputId": "bb6b59d4-f5a5-43a3-ddd7-1924ec56c0ee"
      },
      "source": [
        "print(regressor.coef_)\n"
      ],
      "execution_count": 56,
      "outputs": [
        {
          "output_type": "stream",
          "text": [
            "[ 5.27572958e-01  8.44490415e-01  1.06639226e-01 -3.54869857e+02]\n"
          ],
          "name": "stdout"
        }
      ]
    },
    {
      "cell_type": "code",
      "metadata": {
        "id": "8ZD6FHuzKclX",
        "colab_type": "code",
        "colab": {
          "base_uri": "https://localhost:8080/",
          "height": 34
        },
        "outputId": "7f207fbe-1953-4ea5-dc07-4b63876af58f"
      },
      "source": [
        "print(regressor.intercept_)"
      ],
      "execution_count": 57,
      "outputs": [
        {
          "output_type": "stream",
          "text": [
            "-51144.726425721834\n"
          ],
          "name": "stdout"
        }
      ]
    },
    {
      "cell_type": "code",
      "metadata": {
        "id": "AqAHN5hUKgj5",
        "colab_type": "code",
        "colab": {
          "base_uri": "https://localhost:8080/",
          "height": 34
        },
        "outputId": "f287ccdb-1592-4aa8-934b-9efbebeb2d90"
      },
      "source": [
        "from sklearn.metrics import r2_score\n",
        "r2_score(y_test,y_predict)"
      ],
      "execution_count": 58,
      "outputs": [
        {
          "output_type": "execute_result",
          "data": {
            "text/plain": [
              "0.9112595959622045"
            ]
          },
          "metadata": {
            "tags": []
          },
          "execution_count": 58
        }
      ]
    },
    {
      "cell_type": "code",
      "metadata": {
        "id": "lkyAxqcVLB29",
        "colab_type": "code",
        "colab": {}
      },
      "source": [
        ""
      ],
      "execution_count": 0,
      "outputs": []
    }
  ]
}